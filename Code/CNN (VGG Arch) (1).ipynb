{
 "cells": [
  {
   "cell_type": "code",
   "execution_count": 2,
   "metadata": {},
   "outputs": [
    {
     "name": "stderr",
     "output_type": "stream",
     "text": [
      "Using TensorFlow backend.\n"
     ]
    }
   ],
   "source": [
    "import keras\n",
    "from keras.datasets import mnist\n",
    "from keras.models import Sequential\n",
    "from keras.layers import Dense, Dropout, Flatten\n",
    "from keras.layers import Conv2D, MaxPooling2D\n",
    "from keras import backend as K\n",
    "from keras.callbacks import TensorBoard\n",
    "import numpy as np\n",
    "import matplotlib.pyplot as plt\n",
    "import glob\n",
    "import os\n",
    "from sklearn.model_selection import train_test_split"
   ]
  },
  {
   "cell_type": "code",
   "execution_count": 2,
   "metadata": {},
   "outputs": [],
   "source": [
    "#filelist = glob.glob('/home/dhruv_d/Desktop/newnpdata/*.npy')"
   ]
  },
  {
   "cell_type": "code",
   "execution_count": 4,
   "metadata": {},
   "outputs": [],
   "source": [
    "folder1 = glob.glob('/home/dhruv_d/Desktop/Forward/*.npy')\n",
    "f = np.array([np.load(f) for f in folder1])"
   ]
  },
  {
   "cell_type": "code",
   "execution_count": 5,
   "metadata": {},
   "outputs": [],
   "source": [
    "folder2 = glob.glob('/home/dhruv_d/Desktop/Left/*.npy')\n",
    "l = np.array([np.load(f) for f in folder2])"
   ]
  },
  {
   "cell_type": "code",
   "execution_count": 6,
   "metadata": {},
   "outputs": [],
   "source": [
    "folder3 = glob.glob('/home/dhruv_d/Desktop/Right/*.npy')\n",
    "r = np.array([np.load(f) for f in folder3])"
   ]
  },
  {
   "cell_type": "code",
   "execution_count": 7,
   "metadata": {},
   "outputs": [],
   "source": [
    "folder4 = glob.glob('/home/dhruv_d/Desktop/Break/*.npy')\n",
    "b = np.array([np.load(f) for f in folder4])"
   ]
  },
  {
   "cell_type": "code",
   "execution_count": 8,
   "metadata": {},
   "outputs": [],
   "source": [
    "folder5 = glob.glob('/home/dhruv_d/Desktop/Forward1/*.npy')\n",
    "f1 = np.array([np.load(f) for f in folder5])"
   ]
  },
  {
   "cell_type": "code",
   "execution_count": 9,
   "metadata": {},
   "outputs": [],
   "source": [
    "folder6 = glob.glob('/home/dhruv_d/Desktop/Left1/*.npy')\n",
    "l1 = np.array([np.load(f) for f in folder6])"
   ]
  },
  {
   "cell_type": "code",
   "execution_count": 10,
   "metadata": {},
   "outputs": [],
   "source": [
    "folder7 = glob.glob('/home/dhruv_d/Desktop/Right1/*.npy')\n",
    "r1 = np.array([np.load(f) for f in folder7])"
   ]
  },
  {
   "cell_type": "code",
   "execution_count": 11,
   "metadata": {},
   "outputs": [],
   "source": [
    "folder8 = glob.glob('/home/dhruv_d/Desktop/Break1/*.npy')\n",
    "b1 = np.array([np.load(f) for f in folder8])"
   ]
  },
  {
   "cell_type": "code",
   "execution_count": 12,
   "metadata": {},
   "outputs": [],
   "source": [
    "x_all = np.concatenate((f, l, r, b, f1, l1, r1, b1), axis=0)"
   ]
  },
  {
   "cell_type": "code",
   "execution_count": 13,
   "metadata": {},
   "outputs": [],
   "source": [
    "labels = {'forward': 0, 'left': 1, 'right': 2, 'break': 3}"
   ]
  },
  {
   "cell_type": "code",
   "execution_count": 14,
   "metadata": {},
   "outputs": [],
   "source": [
    "files0 = os.listdir('/home/dhruv_d/Desktop/Forward/')\n",
    "files1 = os.listdir('/home/dhruv_d/Desktop/Left/')\n",
    "files2 = os.listdir('/home/dhruv_d/Desktop/Right/')\n",
    "files3 = os.listdir('/home/dhruv_d/Desktop/Break/')\n",
    "files4 = os.listdir('/home/dhruv_d/Desktop/Forward1/')\n",
    "files5 = os.listdir('/home/dhruv_d/Desktop/Left1/')\n",
    "files6 = os.listdir('/home/dhruv_d/Desktop/Right1/')\n",
    "files7 = os.listdir('/home/dhruv_d/Desktop/Break1/')\n",
    "y_all = []\n",
    "\n",
    "trans = dict.fromkeys(map(ord, \".npy\"), None)\n",
    "\n",
    "#for i in files[:8000]:\n",
    " #   i = i.split(\"_\")\n",
    "  #  t = i[1].translate(trans)\n",
    "   # y_all.append(labels[t]) \n",
    "\n",
    "for j in files0:\n",
    "    j = j.split(\"_\")\n",
    "    t = j[1].translate(trans)\n",
    "    y_all.append(labels[t])\n",
    "    \n",
    "for j in files1:\n",
    "    j = j.split(\"_\")\n",
    "    t = j[1].translate(trans)\n",
    "    y_all.append(labels[t])\n",
    "\n",
    "for j in files2:\n",
    "    j = j.split(\"_\")\n",
    "    t = j[1].translate(trans)\n",
    "    y_all.append(labels[t]) \n",
    "\n",
    "for j in files3:\n",
    "    j = j.split(\"_\")\n",
    "    t = j[1].translate(trans)\n",
    "    y_all.append(labels[t])\n",
    "\n",
    "for j in files4:\n",
    "    j = j.split(\"_\")\n",
    "    t = j[1].translate(trans)\n",
    "    y_all.append(labels[t])\n",
    "    \n",
    "for j in files5:\n",
    "    j = j.split(\"_\")\n",
    "    t = j[1].translate(trans)\n",
    "    y_all.append(labels[t])\n",
    "    \n",
    "for j in files6:\n",
    "    j = j.split(\"_\")\n",
    "    t = j[1].translate(trans)\n",
    "    y_all.append(labels[t])\n",
    "    \n",
    "for j in files7:\n",
    "    j = j.split(\"_\")\n",
    "    t = j[1].translate(trans)\n",
    "    y_all.append(labels[t])"
   ]
  },
  {
   "cell_type": "code",
   "execution_count": 15,
   "metadata": {},
   "outputs": [],
   "source": [
    "y_all = np.asarray(y_all)"
   ]
  },
  {
   "cell_type": "code",
   "execution_count": 24,
   "metadata": {
    "scrolled": true
   },
   "outputs": [],
   "source": [
    "y_all = keras.utils.to_categorical(y_all, num_classes)"
   ]
  },
  {
   "cell_type": "code",
   "execution_count": 23,
   "metadata": {},
   "outputs": [],
   "source": [
    "batch_size = 32\n",
    "num_classes = 4\n",
    "epochs = 12\n",
    "\n",
    "img_height = 210\n",
    "img_width = 240\n",
    "num_channels = 3\n",
    "input_shape = (210, 240, 3)"
   ]
  },
  {
   "cell_type": "code",
   "execution_count": 26,
   "metadata": {},
   "outputs": [],
   "source": [
    "#shuffle two arrays in unison, i.e, keeping corresponding elements as they are\n",
    "def shuffle_unison(a, b):\n",
    "    state = np.random.get_state()\n",
    "    np.random.shuffle(a)\n",
    "    np.random.set_state(state)\n",
    "    np.random.shuffle(b)"
   ]
  },
  {
   "cell_type": "code",
   "execution_count": 27,
   "metadata": {},
   "outputs": [],
   "source": [
    "shuffle_unison(x_all, y_all)"
   ]
  },
  {
   "cell_type": "code",
   "execution_count": 28,
   "metadata": {},
   "outputs": [
    {
     "name": "stdout",
     "output_type": "stream",
     "text": [
      "(10000, 210, 240, 3)\n",
      "(10000, 4)\n"
     ]
    }
   ],
   "source": [
    "print(x_all.shape)\n",
    "print(y_all.shape)"
   ]
  },
  {
   "cell_type": "code",
   "execution_count": 31,
   "metadata": {},
   "outputs": [],
   "source": [
    "x_train = x_all[:8000]\n",
    "x_test = x_all[8000:10000]\n",
    "\n",
    "y_train = y_all[:8000]\n",
    "y_test = y_all[8000:10000]"
   ]
  },
  {
   "cell_type": "code",
   "execution_count": 32,
   "metadata": {},
   "outputs": [],
   "source": [
    "x_train /= 255\n",
    "x_test /= 255"
   ]
  },
  {
   "cell_type": "code",
   "execution_count": 33,
   "metadata": {
    "scrolled": true
   },
   "outputs": [
    {
     "name": "stdout",
     "output_type": "stream",
     "text": [
      "Train on 8000 samples, validate on 2000 samples\n",
      "Epoch 1/12\n",
      "8000/8000 [==============================] - 497s 62ms/step - loss: 0.1725 - acc: 0.9374 - val_loss: 0.1342 - val_acc: 0.9605\n",
      "Epoch 2/12\n",
      "8000/8000 [==============================] - 494s 62ms/step - loss: 0.0095 - acc: 0.9976 - val_loss: 0.0286 - val_acc: 0.9925\n",
      "Epoch 3/12\n",
      "8000/8000 [==============================] - 490s 61ms/step - loss: 8.7103e-04 - acc: 0.9996 - val_loss: 0.0133 - val_acc: 0.9990\n",
      "Epoch 4/12\n",
      "8000/8000 [==============================] - 491s 61ms/step - loss: 4.4641e-06 - acc: 1.0000 - val_loss: 0.0146 - val_acc: 0.9990\n",
      "Epoch 5/12\n",
      "8000/8000 [==============================] - 492s 61ms/step - loss: 2.8312e-06 - acc: 1.0000 - val_loss: 0.0149 - val_acc: 0.9990\n",
      "Epoch 6/12\n",
      "8000/8000 [==============================] - 491s 61ms/step - loss: 7.8000e-07 - acc: 1.0000 - val_loss: 0.0161 - val_acc: 0.9990\n",
      "Epoch 7/12\n",
      "8000/8000 [==============================] - 490s 61ms/step - loss: 2.0515e-07 - acc: 1.0000 - val_loss: 0.0161 - val_acc: 0.9990\n",
      "Epoch 8/12\n",
      "8000/8000 [==============================] - 491s 61ms/step - loss: 1.6710e-07 - acc: 1.0000 - val_loss: 0.0161 - val_acc: 0.9990\n",
      "Epoch 9/12\n",
      "8000/8000 [==============================] - 491s 61ms/step - loss: 1.5342e-07 - acc: 1.0000 - val_loss: 0.0161 - val_acc: 0.9990\n",
      "Epoch 10/12\n",
      "8000/8000 [==============================] - 490s 61ms/step - loss: 1.4468e-07 - acc: 1.0000 - val_loss: 0.0161 - val_acc: 0.9990\n",
      "Epoch 11/12\n",
      "8000/8000 [==============================] - 490s 61ms/step - loss: 1.4190e-07 - acc: 1.0000 - val_loss: 0.0161 - val_acc: 0.9990\n",
      "Epoch 12/12\n",
      "8000/8000 [==============================] - 489s 61ms/step - loss: 1.3505e-07 - acc: 1.0000 - val_loss: 0.0161 - val_acc: 0.9990\n",
      "Test accuracy:  0.999\n"
     ]
    }
   ],
   "source": [
    "model = Sequential()\n",
    "\n",
    "model.add(Conv2D(16, kernel_size=(3,3), activation='relu', padding='same', input_shape=input_shape))\n",
    "model.add(Conv2D(16, kernel_size=(3,3), activation='relu', padding='same'))\n",
    "model.add(MaxPooling2D(strides=2, padding='same'))\n",
    "\n",
    "model.add(Conv2D(32, kernel_size=(3,3), activation='relu', padding='same'))\n",
    "model.add(Conv2D(32, kernel_size=(3,3), activation='relu', padding='same'))\n",
    "model.add(MaxPooling2D(strides=2, padding='valid'))\n",
    "\n",
    "model.add(Flatten())\n",
    "model.add(Dense(128, activation='relu'))\n",
    "model.add(Dense(num_classes, activation='softmax'))\n",
    "\n",
    "adam = keras.optimizers.Adam()\n",
    "model.compile(optimizer= adam, loss='categorical_crossentropy', metrics=['accuracy'])\n",
    "\n",
    "model.fit(x_train, y_train, batch_size=batch_size, epochs=epochs, verbose=1,\n",
    "          validation_data=(x_test, y_test))\n",
    "\n",
    "score = model.evaluate(x_test, y_test, verbose=0)\n",
    "print('Test accuracy: ', score[1])\n",
    "\n",
    "model.save('/home/dhruv_d/Desktop/model.h5')"
   ]
  },
  {
   "cell_type": "code",
   "execution_count": null,
   "metadata": {},
   "outputs": [],
   "source": [
    "dir_file = {\n",
    "    0: 'forward',\n",
    "    1: 'left',\n",
    "    2: 'right',\n",
    "    3: 'break'\n",
    "}\n",
    "\n",
    "for i in range(410):\n",
    "    path = 'images_data/'\n",
    "    file_path = path + dir_file[y_all[i]]\n",
    "    if not os.path.exists(file_path):\n",
    "        os.makedirs(file_path)\n",
    "    if (i % 250 == 0):\n",
    "        print(\"Completed \" + str(i))\n",
    "    plt.imsave(file_path + '/' + str(i) + '.png', n5[i]/255)  "
   ]
  }
 ],
 "metadata": {
  "kernelspec": {
   "display_name": "Tensorflow-GPU",
   "language": "python",
   "name": "tf-gpu"
  },
  "language_info": {
   "codemirror_mode": {
    "name": "ipython",
    "version": 3
   },
   "file_extension": ".py",
   "mimetype": "text/x-python",
   "name": "python",
   "nbconvert_exporter": "python",
   "pygments_lexer": "ipython3",
   "version": "3.6.7"
  }
 },
 "nbformat": 4,
 "nbformat_minor": 2
}
